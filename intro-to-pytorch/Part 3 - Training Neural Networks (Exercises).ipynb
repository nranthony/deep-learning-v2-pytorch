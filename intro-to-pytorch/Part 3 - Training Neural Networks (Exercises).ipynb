{
 "cells": [
  {
   "cell_type": "markdown",
   "metadata": {},
   "source": [
    "# Training Neural Networks\n",
    "\n",
    "The network we built in the previous part isn't so smart, it doesn't know anything about our handwritten digits. Neural networks with non-linear activations work like universal function approximators. There is some function that maps your input to the output. For example, images of handwritten digits to class probabilities. The power of neural networks is that we can train them to approximate this function, and basically any function given enough data and compute time.\n",
    "\n",
    "<img src=\"assets/function_approx.png\" width=500px>\n",
    "\n",
    "At first the network is naive, it doesn't know the function mapping the inputs to the outputs. We train the network by showing it examples of real data, then adjusting the network parameters such that it approximates this function.\n",
    "\n",
    "To find these parameters, we need to know how poorly the network is predicting the real outputs. For this we calculate a **loss function** (also called the cost), a measure of our prediction error. For example, the mean squared loss is often used in regression and binary classification problems\n",
    "\n",
    "$$\n",
    "\\large \\ell = \\frac{1}{2n}\\sum_i^n{\\left(y_i - \\hat{y}_i\\right)^2}\n",
    "$$\n",
    "\n",
    "where $n$ is the number of training examples, $y_i$ are the true labels, and $\\hat{y}_i$ are the predicted labels.\n",
    "\n",
    "By minimizing this loss with respect to the network parameters, we can find configurations where the loss is at a minimum and the network is able to predict the correct labels with high accuracy. We find this minimum using a process called **gradient descent**. The gradient is the slope of the loss function and points in the direction of fastest change. To get to the minimum in the least amount of time, we then want to follow the gradient (downwards). You can think of this like descending a mountain by following the steepest slope to the base.\n",
    "\n",
    "<img src='assets/gradient_descent.png' width=350px>"
   ]
  },
  {
   "cell_type": "markdown",
   "metadata": {},
   "source": [
    "## Backpropagation\n",
    "\n",
    "For single layer networks, gradient descent is straightforward to implement. However, it's more complicated for deeper, multilayer neural networks like the one we've built. Complicated enough that it took about 30 years before researchers figured out how to train multilayer networks.\n",
    "\n",
    "Training multilayer networks is done through **backpropagation** which is really just an application of the chain rule from calculus. It's easiest to understand if we convert a two layer network into a graph representation.\n",
    "\n",
    "<img src='assets/backprop_diagram.png' width=550px>\n",
    "\n",
    "In the forward pass through the network, our data and operations go from bottom to top here. We pass the input $x$ through a linear transformation $L_1$ with weights $W_1$ and biases $b_1$. The output then goes through the sigmoid operation $S$ and another linear transformation $L_2$. Finally we calculate the loss $\\ell$. We use the loss as a measure of how bad the network's predictions are. The goal then is to adjust the weights and biases to minimize the loss.\n",
    "\n",
    "To train the weights with gradient descent, we propagate the gradient of the loss backwards through the network. Each operation has some gradient between the inputs and outputs. As we send the gradients backwards, we multiply the incoming gradient with the gradient for the operation. Mathematically, this is really just calculating the gradient of the loss with respect to the weights using the chain rule.\n",
    "\n",
    "$$\n",
    "\\large \\frac{\\partial \\ell}{\\partial W_1} = \\frac{\\partial L_1}{\\partial W_1} \\frac{\\partial S}{\\partial L_1} \\frac{\\partial L_2}{\\partial S} \\frac{\\partial \\ell}{\\partial L_2}\n",
    "$$\n",
    "\n",
    "**Note:** I'm glossing over a few details here that require some knowledge of vector calculus, but they aren't necessary to understand what's going on.\n",
    "\n",
    "We update our weights using this gradient with some learning rate $\\alpha$. \n",
    "\n",
    "$$\n",
    "\\large W^\\prime_1 = W_1 - \\alpha \\frac{\\partial \\ell}{\\partial W_1}\n",
    "$$\n",
    "\n",
    "The learning rate $\\alpha$ is set such that the weight update steps are small enough that the iterative method settles in a minimum."
   ]
  },
  {
   "cell_type": "markdown",
   "metadata": {},
   "source": [
    "## Losses in PyTorch\n",
    "\n",
    "Let's start by seeing how we calculate the loss with PyTorch. Through the `nn` module, PyTorch provides losses such as the cross-entropy loss (`nn.CrossEntropyLoss`). You'll usually see the loss assigned to `criterion`. As noted in the last part, with a classification problem such as MNIST, we're using the softmax function to predict class probabilities. With a softmax output, you want to use cross-entropy as the loss. To actually calculate the loss, you first define the criterion then pass in the output of your network and the correct labels.\n",
    "\n",
    "Something really important to note here. Looking at [the documentation for `nn.CrossEntropyLoss`](https://pytorch.org/docs/stable/nn.html#torch.nn.CrossEntropyLoss),\n",
    "\n",
    "> This criterion combines `nn.LogSoftmax()` and `nn.NLLLoss()` in one single class.\n",
    ">\n",
    "> The input is expected to contain scores for each class.\n",
    "\n",
    "This means we need to pass in the raw output of our network into the loss, not the output of the softmax function. This raw output is usually called the *logits* or *scores*. We use the logits because softmax gives you probabilities which will often be very close to zero or one but floating-point numbers can't accurately represent values near zero or one ([read more here](https://docs.python.org/3/tutorial/floatingpoint.html)). It's usually best to avoid doing calculations with probabilities, typically we use log-probabilities."
   ]
  },
  {
   "cell_type": "code",
   "execution_count": 1,
   "metadata": {},
   "outputs": [],
   "source": [
    "# The MNIST datasets are hosted on yann.lecun.com that has moved under CloudFlare protection\n",
    "# Run this script to enable the datasets download\n",
    "# Reference: https://github.com/pytorch/vision/issues/1938\n",
    "\n",
    "from six.moves import urllib\n",
    "opener = urllib.request.build_opener()\n",
    "opener.addheaders = [('User-agent', 'Mozilla/5.0')]\n",
    "urllib.request.install_opener(opener)"
   ]
  },
  {
   "cell_type": "code",
   "execution_count": 2,
   "metadata": {},
   "outputs": [],
   "source": [
    "import helper\n",
    "\n",
    "import torch\n",
    "from torch import nn\n",
    "import torch.nn.functional as F\n",
    "from torchvision import datasets, transforms\n",
    "\n",
    "# Define a transform to normalize the data\n",
    "transform = transforms.Compose([transforms.ToTensor(),\n",
    "                                transforms.Normalize((0.5,), (0.5,)),\n",
    "                              ])\n",
    "# Download and load the training data\n",
    "trainset = datasets.MNIST('~/.pytorch/MNIST_data/', download=True, train=True, transform=transform)\n",
    "trainloader = torch.utils.data.DataLoader(trainset, batch_size=64, shuffle=True, num_workers=4, pin_memory=True)\n",
    "data_stream = torch.cuda.Stream()"
   ]
  },
  {
   "cell_type": "markdown",
   "metadata": {},
   "source": [
    "### Note\n",
    "If you haven't seen `nn.Sequential` yet, please finish the end of the Part 2 notebook."
   ]
  },
  {
   "cell_type": "code",
   "execution_count": 3,
   "metadata": {},
   "outputs": [
    {
     "name": "stdout",
     "output_type": "stream",
     "text": [
      "tensor(2.3037, grad_fn=<NllLossBackward0>)\n"
     ]
    }
   ],
   "source": [
    "# Build a feed-forward network\n",
    "model = nn.Sequential(nn.Linear(784, 128),\n",
    "                      nn.ReLU(),\n",
    "                      nn.Linear(128, 64),\n",
    "                      nn.ReLU(),\n",
    "                      nn.Linear(64, 10))\n",
    "\n",
    "# Define the loss\n",
    "criterion = nn.CrossEntropyLoss()\n",
    "\n",
    "# Get our data\n",
    "dataiter = iter(trainloader)\n",
    "\n",
    "images, labels = next(dataiter)\n",
    "\n",
    "# Flatten images\n",
    "images = images.view(images.shape[0], -1)\n",
    "\n",
    "# Forward pass, get our logits\n",
    "logits = model(images)\n",
    "# Calculate the loss with the logits and the labels\n",
    "loss = criterion(logits, labels)\n",
    "\n",
    "print(loss)"
   ]
  },
  {
   "cell_type": "markdown",
   "metadata": {},
   "source": [
    "In my experience it's more convenient to build the model with a log-softmax output using `nn.LogSoftmax` or `F.log_softmax` ([documentation](https://pytorch.org/docs/stable/nn.html#torch.nn.LogSoftmax)). Then you can get the actual probabilities by taking the exponential `torch.exp(output)`. With a log-softmax output, you want to use the negative log likelihood loss, `nn.NLLLoss` ([documentation](https://pytorch.org/docs/stable/nn.html#torch.nn.NLLLoss)).\n",
    "\n",
    ">**Exercise:** Build a model that returns the log-softmax as the output and calculate the loss using the negative log likelihood loss. Note that for `nn.LogSoftmax` and `F.log_softmax` you'll need to set the `dim` keyword argument appropriately. `dim=0` calculates softmax across the rows, so each column sums to 1, while `dim=1` calculates across the columns so each row sums to 1. Think about what you want the output to be and choose `dim` appropriately."
   ]
  },
  {
   "cell_type": "code",
   "execution_count": 4,
   "metadata": {},
   "outputs": [
    {
     "name": "stdout",
     "output_type": "stream",
     "text": [
      "tensor(2.2931, grad_fn=<NllLossBackward0>)\n",
      "Sequential(\n",
      "  (0): Linear(in_features=784, out_features=256, bias=True)\n",
      "  (1): ReLU()\n",
      "  (2): Linear(in_features=256, out_features=64, bias=True)\n",
      "  (3): ReLU()\n",
      "  (4): Linear(in_features=64, out_features=10, bias=True)\n",
      "  (5): LogSoftmax(dim=1)\n",
      ")\n"
     ]
    },
    {
     "data": {
      "image/png": "[encoded data removed]",
      "text/plain": [
       "<Figure size 600x900 with 2 Axes>"
      ]
     },
     "metadata": {},
     "output_type": "display_data"
    }
   ],
   "source": [
    "# TODO: Build a feed-forward network\n",
    "model = nn.Sequential(\n",
    "    nn.Linear(28**2, 256),\n",
    "    nn.ReLU(),\n",
    "    nn.Linear(256, 64),\n",
    "    nn.ReLU(),\n",
    "    nn.Linear(64,10),\n",
    "    nn.LogSoftmax(dim=1)\n",
    ")\n",
    "\n",
    "# TODO: Define the loss\n",
    "criterion = nn.NLLLoss()\n",
    "\n",
    "### Run this to check your work\n",
    "# Get our data\n",
    "dataiter = iter(trainloader)\n",
    "\n",
    "images, labels = next(dataiter)\n",
    "\n",
    "# Flatten images\n",
    "images = images.view(images.shape[0], -1)\n",
    "\n",
    "# Forward pass, get our logits\n",
    "logits = model(images)\n",
    "# Calculate the loss with the logits and the labels\n",
    "loss = criterion(logits, labels)\n",
    "\n",
    "print(loss)\n",
    "\n",
    "print(model)\n",
    "\n",
    "# Forward pass through the network and display output\n",
    "images, labels = next(iter(trainloader))\n",
    "images.resize_(images.shape[0], 1, 784)\n",
    "ps = model.forward(images[0,:])\n",
    "helper.view_classify(images[0].view(1, 28, 28), torch.exp(ps))"
   ]
  },
  {
   "cell_type": "markdown",
   "metadata": {},
   "source": [
    "## Autograd\n",
    "\n",
    "Now that we know how to calculate a loss, how do we use it to perform backpropagation? Torch provides a module, `autograd`, for automatically calculating the gradients of tensors. We can use it to calculate the gradients of all our parameters with respect to the loss. Autograd works by keeping track of operations performed on tensors, then going backwards through those operations, calculating gradients along the way. To make sure PyTorch keeps track of operations on a tensor and calculates the gradients, you need to set `requires_grad = True` on a tensor. You can do this at creation with the `requires_grad` keyword, or at any time with `x.requires_grad_(True)`.\n",
    "\n",
    "You can turn off gradients for a block of code with the `torch.no_grad()` content:\n",
    "```python\n",
    "x = torch.zeros(1, requires_grad=True)\n",
    ">>> with torch.no_grad():\n",
    "...     y = x * 2\n",
    ">>> y.requires_grad\n",
    "False\n",
    "```\n",
    "\n",
    "Also, you can turn on or off gradients altogether with `torch.set_grad_enabled(True|False)`.\n",
    "\n",
    "The gradients are computed with respect to some variable `z` with `z.backward()`. This does a backward pass through the operations that created `z`."
   ]
  },
  {
   "cell_type": "code",
   "execution_count": 5,
   "metadata": {},
   "outputs": [
    {
     "name": "stdout",
     "output_type": "stream",
     "text": [
      "tensor([[-0.7810, -0.3306],\n",
      "        [ 1.4777, -0.0565]], requires_grad=True)\n"
     ]
    }
   ],
   "source": [
    "x = torch.randn(2,2, requires_grad=True)\n",
    "print(x)"
   ]
  },
  {
   "cell_type": "code",
   "execution_count": 6,
   "metadata": {},
   "outputs": [
    {
     "name": "stdout",
     "output_type": "stream",
     "text": [
      "tensor([[0.6100, 0.1093],\n",
      "        [2.1836, 0.0032]], grad_fn=<PowBackward0>)\n"
     ]
    }
   ],
   "source": [
    "y = x**2\n",
    "print(y)"
   ]
  },
  {
   "cell_type": "markdown",
   "metadata": {},
   "source": [
    "Below we can see the operation that created `y`, a power operation `PowBackward0`."
   ]
  },
  {
   "cell_type": "code",
   "execution_count": 7,
   "metadata": {},
   "outputs": [
    {
     "name": "stdout",
     "output_type": "stream",
     "text": [
      "<PowBackward0 object at 0x000002198BB3B130>\n"
     ]
    }
   ],
   "source": [
    "## grad_fn shows the function that generated this variable\n",
    "print(y.grad_fn)"
   ]
  },
  {
   "cell_type": "markdown",
   "metadata": {},
   "source": [
    "The autograd module keeps track of these operations and knows how to calculate the gradient for each one. In this way, it's able to calculate the gradients for a chain of operations, with respect to any one tensor. Let's reduce the tensor `y` to a scalar value, the mean."
   ]
  },
  {
   "cell_type": "code",
   "execution_count": 8,
   "metadata": {},
   "outputs": [
    {
     "name": "stdout",
     "output_type": "stream",
     "text": [
      "tensor(0.7265, grad_fn=<MeanBackward0>)\n"
     ]
    }
   ],
   "source": [
    "z = y.mean()\n",
    "print(z)"
   ]
  },
  {
   "cell_type": "markdown",
   "metadata": {},
   "source": [
    "You can check the gradients for `x` and `y` but they are empty currently."
   ]
  },
  {
   "cell_type": "code",
   "execution_count": 9,
   "metadata": {},
   "outputs": [
    {
     "name": "stdout",
     "output_type": "stream",
     "text": [
      "None\n"
     ]
    }
   ],
   "source": [
    "print(x.grad)"
   ]
  },
  {
   "cell_type": "markdown",
   "metadata": {},
   "source": [
    "To calculate the gradients, you need to run the `.backward` method on a Variable, `z` for example. This will calculate the gradient for `z` with respect to `x`\n",
    "\n",
    "$$\n",
    "\\frac{\\partial z}{\\partial x} = \\frac{\\partial}{\\partial x}\\left[\\frac{1}{n}\\sum_i^n x_i^2\\right] = \\frac{x}{2}\n",
    "$$"
   ]
  },
  {
   "cell_type": "code",
   "execution_count": 10,
   "metadata": {},
   "outputs": [
    {
     "name": "stdout",
     "output_type": "stream",
     "text": [
      "tensor([[-0.3905, -0.1653],\n",
      "        [ 0.7389, -0.0283]])\n",
      "tensor([[-0.3905, -0.1653],\n",
      "        [ 0.7389, -0.0283]], grad_fn=<DivBackward0>)\n"
     ]
    }
   ],
   "source": [
    "z.backward()\n",
    "print(x.grad)\n",
    "print(x/2)"
   ]
  },
  {
   "cell_type": "markdown",
   "metadata": {},
   "source": [
    "These gradients calculations are particularly useful for neural networks. For training we need the gradients of the cost with respect to the weights. With PyTorch, we run data forward through the network to calculate the loss, then, go backwards to calculate the gradients with respect to the loss. Once we have the gradients we can make a gradient descent step. "
   ]
  },
  {
   "cell_type": "markdown",
   "metadata": {},
   "source": [
    "## Loss and Autograd together\n",
    "\n",
    "When we create a network with PyTorch, all of the parameters are initialized with `requires_grad = True`. This means that when we calculate the loss and call `loss.backward()`, the gradients for the parameters are calculated. These gradients are used to update the weights with gradient descent. Below you can see an example of calculating the gradients using a backwards pass."
   ]
  },
  {
   "cell_type": "code",
   "execution_count": 11,
   "metadata": {},
   "outputs": [],
   "source": [
    "# Build a feed-forward network\n",
    "model = nn.Sequential(nn.Linear(784, 128),\n",
    "                      nn.ReLU(),\n",
    "                      nn.Linear(128, 64),\n",
    "                      nn.ReLU(),\n",
    "                      nn.Linear(64, 10),\n",
    "                      nn.LogSoftmax(dim=1))\n",
    "\n",
    "criterion = nn.NLLLoss()\n",
    "dataiter = iter(trainloader)\n",
    "images, labels = next(dataiter)\n",
    "images = images.view(images.shape[0], -1)\n",
    "\n",
    "logits = model(images)\n",
    "loss = criterion(logits, labels)"
   ]
  },
  {
   "cell_type": "code",
   "execution_count": 12,
   "metadata": {},
   "outputs": [
    {
     "name": "stdout",
     "output_type": "stream",
     "text": [
      "Before backward pass: \n",
      " None\n",
      "After backward pass: \n",
      " tensor([[ 2.7347e-03,  2.7347e-03,  2.7347e-03,  ...,  2.7347e-03,\n",
      "          2.7347e-03,  2.7347e-03],\n",
      "        [-8.9126e-05, -8.9126e-05, -8.9126e-05,  ..., -8.9126e-05,\n",
      "         -8.9126e-05, -8.9126e-05],\n",
      "        [ 7.6934e-04,  7.6934e-04,  7.6934e-04,  ...,  7.6934e-04,\n",
      "          7.6934e-04,  7.6934e-04],\n",
      "        ...,\n",
      "        [-2.6970e-03, -2.6970e-03, -2.6970e-03,  ..., -2.6970e-03,\n",
      "         -2.6970e-03, -2.6970e-03],\n",
      "        [-4.6842e-04, -4.6842e-04, -4.6842e-04,  ..., -4.6842e-04,\n",
      "         -4.6842e-04, -4.6842e-04],\n",
      "        [ 2.1131e-04,  2.1131e-04,  2.1131e-04,  ...,  2.1131e-04,\n",
      "          2.1131e-04,  2.1131e-04]])\n"
     ]
    }
   ],
   "source": [
    "print('Before backward pass: \\n', model[0].weight.grad)\n",
    "\n",
    "loss.backward()\n",
    "\n",
    "print('After backward pass: \\n', model[0].weight.grad)"
   ]
  },
  {
   "cell_type": "markdown",
   "metadata": {},
   "source": [
    "## Training the network!\n",
    "\n",
    "There's one last piece we need to start training, an optimizer that we'll use to update the weights with the gradients. We get these from PyTorch's [`optim` package](https://pytorch.org/docs/stable/optim.html). For example we can use stochastic gradient descent with `optim.SGD`. You can see how to define an optimizer below."
   ]
  },
  {
   "cell_type": "code",
   "execution_count": 13,
   "metadata": {},
   "outputs": [],
   "source": [
    "from torch import optim\n",
    "\n",
    "# Optimizers require the parameters to optimize and a learning rate\n",
    "optimizer = optim.SGD(model.parameters(), lr=0.1)"
   ]
  },
  {
   "cell_type": "markdown",
   "metadata": {},
   "source": [
    "Now we know how to use all the individual parts so it's time to see how they work together. Let's consider just one learning step before looping through all the data. The general process with PyTorch:\n",
    "\n",
    "* Make a forward pass through the network \n",
    "* Use the network output to calculate the loss\n",
    "* Perform a backward pass through the network with `loss.backward()` to calculate the gradients\n",
    "* Take a step with the optimizer to update the weights\n",
    "\n",
    "Below I'll go through one training step and print out the weights and gradients so you can see how it changes. Note that I have a line of code `optimizer.zero_grad()`. When you do multiple backwards passes with the same parameters, the gradients are accumulated. This means that you need to zero the gradients on each training pass or you'll retain gradients from previous training batches."
   ]
  },
  {
   "cell_type": "code",
   "execution_count": 14,
   "metadata": {},
   "outputs": [
    {
     "name": "stdout",
     "output_type": "stream",
     "text": [
      "Initial weights -  Parameter containing:\n",
      "tensor([[ 0.0140,  0.0065, -0.0114,  ..., -0.0088,  0.0047,  0.0194],\n",
      "        [ 0.0040, -0.0086,  0.0340,  ...,  0.0271, -0.0082,  0.0188],\n",
      "        [ 0.0168, -0.0160, -0.0158,  ...,  0.0349, -0.0203, -0.0296],\n",
      "        ...,\n",
      "        [-0.0142, -0.0231,  0.0176,  ..., -0.0263, -0.0054, -0.0138],\n",
      "        [-0.0213,  0.0141, -0.0184,  ..., -0.0111, -0.0288,  0.0263],\n",
      "        [-0.0025, -0.0040,  0.0257,  ...,  0.0289, -0.0073, -0.0301]],\n",
      "       requires_grad=True)\n",
      "Gradient - tensor([[-0.0004, -0.0004, -0.0004,  ..., -0.0004, -0.0004, -0.0004],\n",
      "        [ 0.0006,  0.0006,  0.0006,  ...,  0.0006,  0.0006,  0.0006],\n",
      "        [-0.0025, -0.0025, -0.0025,  ..., -0.0025, -0.0025, -0.0025],\n",
      "        ...,\n",
      "        [-0.0013, -0.0013, -0.0013,  ..., -0.0013, -0.0013, -0.0013],\n",
      "        [-0.0002, -0.0002, -0.0002,  ..., -0.0002, -0.0002, -0.0002],\n",
      "        [-0.0016, -0.0016, -0.0016,  ..., -0.0016, -0.0016, -0.0016]])\n"
     ]
    }
   ],
   "source": [
    "print('Initial weights - ', model[0].weight)\n",
    "\n",
    "dataiter = iter(trainloader)\n",
    "images, labels = next(dataiter)\n",
    "images.resize_(64, 784)\n",
    "\n",
    "# Clear the gradients, do this because gradients are accumulated\n",
    "optimizer.zero_grad()\n",
    "\n",
    "# Forward pass, then backward pass, then update weights\n",
    "output = model(images)\n",
    "loss = criterion(output, labels)\n",
    "loss.backward()\n",
    "print('Gradient -', model[0].weight.grad)"
   ]
  },
  {
   "cell_type": "code",
   "execution_count": 15,
   "metadata": {},
   "outputs": [
    {
     "name": "stdout",
     "output_type": "stream",
     "text": [
      "Updated weights -  Parameter containing:\n",
      "tensor([[ 0.0140,  0.0065, -0.0114,  ..., -0.0087,  0.0048,  0.0194],\n",
      "        [ 0.0040, -0.0087,  0.0339,  ...,  0.0271, -0.0082,  0.0187],\n",
      "        [ 0.0170, -0.0157, -0.0155,  ...,  0.0351, -0.0200, -0.0293],\n",
      "        ...,\n",
      "        [-0.0141, -0.0230,  0.0177,  ..., -0.0261, -0.0053, -0.0136],\n",
      "        [-0.0213,  0.0141, -0.0184,  ..., -0.0111, -0.0288,  0.0263],\n",
      "        [-0.0023, -0.0038,  0.0259,  ...,  0.0291, -0.0071, -0.0299]],\n",
      "       requires_grad=True)\n"
     ]
    }
   ],
   "source": [
    "# Take an update step and view the new weights\n",
    "optimizer.step()\n",
    "print('Updated weights - ', model[0].weight)"
   ]
  },
  {
   "cell_type": "markdown",
   "metadata": {},
   "source": [
    "### Training for real\n",
    "\n",
    "Now we'll put this algorithm into a loop so we can go through all the images. Some nomenclature, one pass through the entire dataset is called an *epoch*. So here we're going to loop through `trainloader` to get our training batches. For each batch, we'll be doing a training pass where we calculate the loss, do a backwards pass, and update the weights.\n",
    "\n",
    ">**Exercise:** Implement the training pass for our network. If you implemented it correctly, you should see the training loss drop with each epoch."
   ]
  },
  {
   "cell_type": "code",
   "execution_count": 16,
   "metadata": {},
   "outputs": [],
   "source": [
    "## Your solution here\n",
    "import torch\n",
    "device = torch.device('cuda' if torch.cuda.is_available() else 'cpu')"
   ]
  },
  {
   "cell_type": "code",
   "execution_count": 19,
   "metadata": {},
   "outputs": [
    {
     "name": "stdout",
     "output_type": "stream",
     "text": [
      "Training loss: 1.9060980483158818\n",
      "Training loss: 0.8262741605737316\n",
      "Training loss: 0.5055294018913942\n",
      "Training loss: 0.41812151630740685\n",
      "Training loss: 0.3773131457441397\n"
     ]
    }
   ],
   "source": [
    "model = nn.Sequential(nn.Linear(784, 128),\n",
    "                      nn.ReLU(),\n",
    "                      nn.Linear(128, 64),\n",
    "                      nn.ReLU(),\n",
    "                      nn.Linear(64, 10),\n",
    "                      nn.LogSoftmax(dim=1)).to(device)\n",
    "\n",
    "criterion = nn.NLLLoss()\n",
    "optimizer = optim.SGD(model.parameters(), lr=0.003)\n",
    "\n",
    "epochs = 5\n",
    "for e in range(epochs):\n",
    "    running_loss = 0\n",
    "    for images, labels in trainloader:\n",
    "        # Flatten MNIST images into a 784 long vector\n",
    "        with torch.cuda.stream(data_stream):\n",
    "            images = images.to(device, non_blocking=True)\n",
    "            labels = labels.to(device, non_blocking=True)\n",
    "        data_stream.synchronize()\n",
    "        \n",
    "        # images, labels = images.to(device), labels.to(device)\n",
    "        images = images.view(images.shape[0], -1)\n",
    "        optimizer.zero_grad() #GO ; 0G\n",
    "\n",
    "        # TODO: Training pass\n",
    "        output = model(images) # Forward\n",
    "        loss = criterion(output, labels) # Loss\n",
    "        loss.backward() # Gradient\n",
    "        optimizer.step() # Optimizer step\n",
    "\n",
    "        running_loss += loss.item()\n",
    "    else:\n",
    "        print(f\"Training loss: {running_loss/len(trainloader)}\")"
   ]
  },
  {
   "cell_type": "code",
   "execution_count": 22,
   "metadata": {},
   "outputs": [
    {
     "name": "stdout",
     "output_type": "stream",
     "text": [
      "Sequential(\n",
      "  (0): Linear(in_features=784, out_features=128, bias=True)\n",
      "  (1): ReLU()\n",
      "  (2): Linear(in_features=128, out_features=64, bias=True)\n",
      "  (3): ReLU()\n",
      "  (4): Linear(in_features=64, out_features=10, bias=True)\n",
      "  (5): LogSoftmax(dim=1)\n",
      ")\n"
     ]
    }
   ],
   "source": [
    "print(model)"
   ]
  },
  {
   "cell_type": "code",
   "execution_count": 20,
   "metadata": {},
   "outputs": [
    {
     "name": "stdout",
     "output_type": "stream",
     "text": [
      "-------------------------------------------------------  ------------  ------------  ------------  ------------  ------------  ------------  ------------  ------------  ------------  ------------  \n",
      "                                                   Name    Self CPU %      Self CPU   CPU total %     CPU total  CPU time avg     Self CUDA   Self CUDA %    CUDA total  CUDA time avg    # of Calls  \n",
      "-------------------------------------------------------  ------------  ------------  ------------  ------------  ------------  ------------  ------------  ------------  ------------  ------------  \n",
      "    autograd::engine::evaluate_function: AddmmBackward0         0.85%      71.411ms         4.97%     416.065ms     147.855us      26.253ms         0.65%        2.273s     807.607us          2814  \n",
      "                                              aten::sum         0.53%      44.560ms         0.53%      44.560ms      15.835us        1.709s        42.09%        1.709s     607.471us          2814  \n",
      "autograd::engine::evaluate_function: torch::autograd...         0.48%      40.327ms         1.67%     139.728ms      24.827us      24.816ms         0.61%     560.038ms      99.509us          5628  \n",
      "                        torch::autograd::AccumulateGrad         0.53%      43.940ms         1.19%      99.401ms      17.662us      23.793ms         0.59%     535.222ms      95.100us          5628  \n",
      "                                         AddmmBackward0         0.84%      70.260ms         3.50%     292.862ms     104.073us      36.466ms         0.90%     530.897ms     188.663us          2814  \n",
      "                                Optimizer.step#SGD.step         2.90%     242.938ms         3.49%     291.877ms     311.170us       4.430ms         0.11%     526.359ms     561.150us           938  \n",
      "                                    aten::_foreach_add_         0.57%      47.907ms         0.58%      48.939ms      52.174us     509.160ms        12.54%     521.929ms     556.428us           938  \n",
      "                                             aten::add_         0.66%      55.461ms         0.66%      55.461ms       9.854us     511.429ms        12.59%     511.429ms      90.872us          5628  \n",
      "                                               aten::mm         1.41%     118.190ms         1.41%     118.190ms      25.200us     409.804ms        10.09%     409.804ms      87.378us          4690  \n",
      "                                             aten::relu         0.27%      22.372ms         0.62%      51.793ms      27.608us       8.036ms         0.20%     157.093ms      83.738us          1876  \n",
      "                                        aten::clamp_min         0.35%      29.421ms         0.35%      29.421ms      15.683us     149.057ms         3.67%     149.057ms      79.455us          1876  \n",
      "                                                aten::t         1.14%      95.047ms         2.29%     191.923ms      14.615us      62.029ms         1.53%     147.090ms      11.201us         13132  \n",
      "                                           aten::linear         0.41%      34.626ms         2.51%     209.975ms      74.618us      19.876ms         0.49%     121.569ms      43.201us          2814  \n",
      "                                      aten::log_softmax         0.09%       7.118ms         0.31%      26.152ms      27.880us       4.088ms         0.10%     111.750ms     119.136us           938  \n",
      "                                     aten::_log_softmax         0.23%      19.034ms         0.23%      19.034ms      20.292us     107.662ms         2.65%     107.662ms     114.778us           938  \n",
      "     autograd::engine::evaluate_function: ReluBackward0         0.23%      19.232ms         0.73%      61.152ms      32.597us       8.049ms         0.20%      94.572ms      50.412us          1876  \n",
      "                                          ReluBackward0         0.19%      15.502ms         0.50%      41.920ms      22.345us       8.038ms         0.20%      86.523ms      46.121us          1876  \n",
      "                                        aten::transpose         0.98%      82.210ms         1.16%      96.876ms       7.377us      57.223ms         1.41%      85.061ms       6.477us         13132  \n",
      "                               aten::threshold_backward         0.32%      26.418ms         0.32%      26.418ms      14.082us      78.485ms         1.93%      78.485ms      41.836us          1876  \n",
      "                                            aten::addmm         1.48%     123.625ms         1.48%     123.625ms      43.932us      71.931ms         1.77%      71.931ms      25.562us          2814  \n",
      "                                               aten::to         0.15%      12.333ms         0.87%      73.085ms      38.958us       9.494ms         0.23%      64.801ms      34.542us          1876  \n",
      "        autograd::engine::evaluate_function: TBackward0         0.28%      23.459ms         0.87%      72.674ms      25.826us      12.487ms         0.31%      58.900ms      20.931us          2814  \n",
      "                                         aten::_to_copy         0.33%      27.402ms         0.73%      60.752ms      32.384us      15.217ms         0.37%      55.307ms      29.481us          1876  \n",
      "                                             TBackward0         0.16%      13.429ms         0.59%      49.215ms      17.489us      13.712ms         0.34%      46.413ms      16.494us          2814  \n",
      "                                            aten::copy_         0.26%      22.107ms         0.26%      22.107ms      11.784us      36.660ms         0.90%      36.660ms      19.542us          1876  \n",
      "autograd::engine::evaluate_function: NllLossBackward...         0.14%      12.054ms         0.67%      56.254ms      59.972us       4.426ms         0.11%      28.635ms      30.528us           938  \n",
      "                                       aten::as_strided         0.18%      14.665ms         0.18%      14.665ms       1.117us      27.838ms         0.69%      27.838ms       2.120us         13132  \n",
      "                                       NllLossBackward0         0.10%       8.300ms         0.53%      44.200ms      47.122us       3.980ms         0.10%      24.209ms      25.809us           938  \n",
      "                                      aten::nll_loss_nd         0.08%       6.302ms         0.46%      38.645ms      41.199us       4.029ms         0.10%      22.933ms      24.449us           938  \n",
      "                                        aten::ones_like         0.12%      10.303ms         0.35%      29.687ms      31.649us       5.985ms         0.15%      21.741ms      23.178us           938  \n",
      "                                aten::nll_loss_backward         0.24%      20.471ms         0.43%      35.900ms      38.273us       9.517ms         0.23%      20.229ms      21.566us           938  \n",
      "                                         aten::nll_loss         0.08%       6.390ms         0.39%      32.343ms      34.481us       4.044ms         0.10%      18.904ms      20.154us           938  \n",
      "                                            aten::fill_         0.21%      17.862ms         0.21%      17.862ms       9.521us      16.313ms         0.40%      16.313ms       8.696us          1876  \n",
      "autograd::engine::evaluate_function: LogSoftmaxBackw...         0.09%       7.747ms         0.31%      26.019ms      27.738us       3.931ms         0.10%      16.000ms      17.058us           938  \n",
      "                                 aten::nll_loss_forward         0.30%      25.006ms         0.31%      25.953ms      27.668us      11.841ms         0.29%      14.860ms      15.842us           938  \n",
      "                                      aten::result_type         0.01%       1.033ms         0.01%       1.033ms       0.183us      12.769ms         0.31%      12.769ms       2.269us          5628  \n",
      "                                    LogSoftmaxBackward0         0.10%       8.243ms         0.22%      18.272ms      19.480us       3.922ms         0.10%      12.069ms      12.867us           938  \n",
      "                                            aten::zero_         0.08%       6.280ms         0.18%      15.430ms      16.450us       3.881ms         0.10%      10.712ms      11.420us           938  \n",
      "                       aten::_log_softmax_backward_data         0.12%      10.029ms         0.12%      10.029ms      10.692us       8.147ms         0.20%       8.147ms       8.686us           938  \n",
      "                                             aten::view         0.14%      11.959ms         0.14%      11.959ms       3.187us       8.026ms         0.20%       8.026ms       2.139us          3752  \n",
      "                                       aten::empty_like         0.08%       6.450ms         0.13%      10.672ms      11.378us       4.280ms         0.11%       6.274ms       6.689us           938  \n",
      "                                    aten::empty_strided         0.18%      15.465ms         0.18%      15.465ms       5.496us       5.424ms         0.13%       5.424ms       1.928us          2814  \n",
      "                                          aten::resize_         0.01%     948.500us         0.01%     948.500us       1.007us       3.035ms         0.07%       3.035ms       3.222us           942  \n",
      "enumerate(DataLoader)#_MultiProcessingDataLoaderIter...        82.09%        6.869s        82.09%        6.869s       7.315ms       2.021ms         0.05%       2.049ms       2.182us           939  \n",
      "                                         aten::randperm         0.01%     870.400us         0.02%       1.721ms     430.275us      54.000us         0.00%     141.000us      35.250us             4  \n",
      "                                             aten::item         0.00%      22.000us         0.00%      29.300us      14.650us      19.000us         0.00%      29.000us      14.500us             2  \n",
      "                                            aten::empty         0.00%      44.700us         0.00%      44.700us      11.175us      22.000us         0.00%      22.000us       5.500us             4  \n",
      "                              aten::_local_scalar_dense         0.00%       7.300us         0.00%       7.300us       3.650us      10.000us         0.00%      10.000us       5.000us             2  \n",
      "                                          aten::random_         0.00%      34.800us         0.00%      34.800us      17.400us       8.000us         0.00%       8.000us       4.000us             2  \n",
      "                                    aten::scalar_tensor         0.00%       6.300us         0.00%       6.300us       3.150us       7.000us         0.00%       7.000us       3.500us             2  \n",
      "                                     aten::resolve_conj         0.00%       1.000us         0.00%       1.000us       0.500us       6.000us         0.00%       6.000us       3.000us             2  \n",
      "                                      aten::resolve_neg         0.00%       0.200us         0.00%       0.200us       0.100us       6.000us         0.00%       6.000us       3.000us             2  \n",
      "-------------------------------------------------------  ------------  ------------  ------------  ------------  ------------  ------------  ------------  ------------  ------------  ------------  \n",
      "Self CPU time total: 8.368s\n",
      "Self CUDA time total: 4.061s\n",
      "\n"
     ]
    }
   ],
   "source": [
    "import torch.profiler as profiler\n",
    "\n",
    "with profiler.profile(\n",
    "    activities=[\n",
    "        profiler.ProfilerActivity.CPU,\n",
    "        profiler.ProfilerActivity.CUDA],\n",
    "    on_trace_ready=profiler.tensorboard_trace_handler('./log'),\n",
    "    record_shapes=True,\n",
    "    with_stack=True\n",
    ") as prof:\n",
    "    for images, labels in trainloader:\n",
    "        with torch.cuda.stream(data_stream):\n",
    "            images = images.to(device, non_blocking=True)\n",
    "            labels = labels.to(device, non_blocking=True)\n",
    "        # images, labels = images.to(device), labels.to(device)\n",
    "        data_stream.synchronize()\n",
    "        images = images.view(images.shape[0], -1)\n",
    "        output = model(images)\n",
    "        loss = criterion(output, labels)\n",
    "        loss.backward()\n",
    "        optimizer.step()\n",
    "print(prof.key_averages().table(sort_by=\"cuda_time_total\"))\n"
   ]
  },
  {
   "cell_type": "markdown",
   "metadata": {},
   "source": [
    "With the network trained, we can check out it's predictions."
   ]
  },
  {
   "cell_type": "code",
   "execution_count": 21,
   "metadata": {},
   "outputs": [
    {
     "data": {
      "image/png": "[encoded data removed]",
      "text/plain": [
       "<Figure size 600x900 with 2 Axes>"
      ]
     },
     "metadata": {},
     "output_type": "display_data"
    }
   ],
   "source": [
    "%matplotlib inline\n",
    "import helper\n",
    "\n",
    "dataiter = iter(trainloader)\n",
    "images, labels = next(dataiter)\n",
    "\n",
    "img = images[0].view(1, 784).to(device)\n",
    "# Turn off gradients to speed up this part\n",
    "with torch.no_grad():\n",
    "    logps = model(img)\n",
    "\n",
    "# Output of the network are log-probabilities, need to take exponential for probabilities\n",
    "ps = torch.exp(logps)\n",
    "helper.view_classify(img.view(1, 28, 28).cpu(), ps.cpu())"
   ]
  },
  {
   "cell_type": "markdown",
   "metadata": {},
   "source": [
    "Now our network is brilliant. It can accurately predict the digits in our images. Next up you'll write the code for training a neural network on a more complex dataset."
   ]
  }
 ],
 "metadata": {
  "kernelspec": {
   "display_name": "linusbio",
   "language": "python",
   "name": "python3"
  },
  "language_info": {
   "codemirror_mode": {
    "name": "ipython",
    "version": 3
   },
   "file_extension": ".py",
   "mimetype": "text/x-python",
   "name": "python",
   "nbconvert_exporter": "python",
   "pygments_lexer": "ipython3",
   "version": "3.11.11"
  }
 },
 "nbformat": 4,
 "nbformat_minor": 2
}
